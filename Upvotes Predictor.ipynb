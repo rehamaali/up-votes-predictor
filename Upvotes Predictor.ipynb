{
 "cells": [
  {
   "cell_type": "markdown",
   "metadata": {},
   "source": [
    "# <center> Up votes Predictor <center/>"
   ]
  },
  {
   "cell_type": "markdown",
   "metadata": {},
   "source": [
    "## Imports:"
   ]
  },
  {
   "cell_type": "code",
   "execution_count": 1,
   "metadata": {},
   "outputs": [
    {
     "name": "stderr",
     "output_type": "stream",
     "text": [
      "C:\\Users\\HP\\Anaconda3\\lib\\site-packages\\statsmodels\\tools\\_testing.py:19: FutureWarning: pandas.util.testing is deprecated. Use the functions in the public API at pandas.testing instead.\n",
      "  import pandas.util.testing as tm\n",
      "C:\\Users\\HP\\Anaconda3\\lib\\site-packages\\sklearn\\linear_model\\least_angle.py:30: DeprecationWarning: `np.float` is a deprecated alias for the builtin `float`. To silence this warning, use `float` by itself. Doing this will not modify any behavior and is safe. If you specifically wanted the numpy scalar type, use `np.float64` here.\n",
      "Deprecated in NumPy 1.20; for more details and guidance: https://numpy.org/devdocs/release/1.20.0-notes.html#deprecations\n",
      "  method='lar', copy_X=True, eps=np.finfo(np.float).eps,\n",
      "C:\\Users\\HP\\Anaconda3\\lib\\site-packages\\sklearn\\linear_model\\least_angle.py:167: DeprecationWarning: `np.float` is a deprecated alias for the builtin `float`. To silence this warning, use `float` by itself. Doing this will not modify any behavior and is safe. If you specifically wanted the numpy scalar type, use `np.float64` here.\n",
      "Deprecated in NumPy 1.20; for more details and guidance: https://numpy.org/devdocs/release/1.20.0-notes.html#deprecations\n",
      "  method='lar', copy_X=True, eps=np.finfo(np.float).eps,\n",
      "C:\\Users\\HP\\Anaconda3\\lib\\site-packages\\sklearn\\linear_model\\least_angle.py:284: DeprecationWarning: `np.float` is a deprecated alias for the builtin `float`. To silence this warning, use `float` by itself. Doing this will not modify any behavior and is safe. If you specifically wanted the numpy scalar type, use `np.float64` here.\n",
      "Deprecated in NumPy 1.20; for more details and guidance: https://numpy.org/devdocs/release/1.20.0-notes.html#deprecations\n",
      "  eps=np.finfo(np.float).eps, copy_Gram=True, verbose=0,\n",
      "C:\\Users\\HP\\Anaconda3\\lib\\site-packages\\sklearn\\linear_model\\least_angle.py:862: DeprecationWarning: `np.float` is a deprecated alias for the builtin `float`. To silence this warning, use `float` by itself. Doing this will not modify any behavior and is safe. If you specifically wanted the numpy scalar type, use `np.float64` here.\n",
      "Deprecated in NumPy 1.20; for more details and guidance: https://numpy.org/devdocs/release/1.20.0-notes.html#deprecations\n",
      "  eps=np.finfo(np.float).eps, copy_X=True, fit_path=True,\n",
      "C:\\Users\\HP\\Anaconda3\\lib\\site-packages\\sklearn\\linear_model\\least_angle.py:1101: DeprecationWarning: `np.float` is a deprecated alias for the builtin `float`. To silence this warning, use `float` by itself. Doing this will not modify any behavior and is safe. If you specifically wanted the numpy scalar type, use `np.float64` here.\n",
      "Deprecated in NumPy 1.20; for more details and guidance: https://numpy.org/devdocs/release/1.20.0-notes.html#deprecations\n",
      "  eps=np.finfo(np.float).eps, copy_X=True, fit_path=True,\n",
      "C:\\Users\\HP\\Anaconda3\\lib\\site-packages\\sklearn\\linear_model\\least_angle.py:1127: DeprecationWarning: `np.float` is a deprecated alias for the builtin `float`. To silence this warning, use `float` by itself. Doing this will not modify any behavior and is safe. If you specifically wanted the numpy scalar type, use `np.float64` here.\n",
      "Deprecated in NumPy 1.20; for more details and guidance: https://numpy.org/devdocs/release/1.20.0-notes.html#deprecations\n",
      "  eps=np.finfo(np.float).eps, positive=False):\n",
      "C:\\Users\\HP\\Anaconda3\\lib\\site-packages\\sklearn\\linear_model\\least_angle.py:1362: DeprecationWarning: `np.float` is a deprecated alias for the builtin `float`. To silence this warning, use `float` by itself. Doing this will not modify any behavior and is safe. If you specifically wanted the numpy scalar type, use `np.float64` here.\n",
      "Deprecated in NumPy 1.20; for more details and guidance: https://numpy.org/devdocs/release/1.20.0-notes.html#deprecations\n",
      "  max_n_alphas=1000, n_jobs=None, eps=np.finfo(np.float).eps,\n",
      "C:\\Users\\HP\\Anaconda3\\lib\\site-packages\\sklearn\\linear_model\\least_angle.py:1602: DeprecationWarning: `np.float` is a deprecated alias for the builtin `float`. To silence this warning, use `float` by itself. Doing this will not modify any behavior and is safe. If you specifically wanted the numpy scalar type, use `np.float64` here.\n",
      "Deprecated in NumPy 1.20; for more details and guidance: https://numpy.org/devdocs/release/1.20.0-notes.html#deprecations\n",
      "  max_n_alphas=1000, n_jobs=None, eps=np.finfo(np.float).eps,\n",
      "C:\\Users\\HP\\Anaconda3\\lib\\site-packages\\sklearn\\linear_model\\least_angle.py:1738: DeprecationWarning: `np.float` is a deprecated alias for the builtin `float`. To silence this warning, use `float` by itself. Doing this will not modify any behavior and is safe. If you specifically wanted the numpy scalar type, use `np.float64` here.\n",
      "Deprecated in NumPy 1.20; for more details and guidance: https://numpy.org/devdocs/release/1.20.0-notes.html#deprecations\n",
      "  eps=np.finfo(np.float).eps, copy_X=True, positive=False):\n",
      "C:\\Users\\HP\\Anaconda3\\lib\\site-packages\\sklearn\\decomposition\\online_lda.py:29: DeprecationWarning: `np.float` is a deprecated alias for the builtin `float`. To silence this warning, use `float` by itself. Doing this will not modify any behavior and is safe. If you specifically wanted the numpy scalar type, use `np.float64` here.\n",
      "Deprecated in NumPy 1.20; for more details and guidance: https://numpy.org/devdocs/release/1.20.0-notes.html#deprecations\n",
      "  EPS = np.finfo(np.float).eps\n",
      "C:\\Users\\HP\\Anaconda3\\lib\\site-packages\\sklearn\\ensemble\\gradient_boosting.py:32: DeprecationWarning: `np.bool` is a deprecated alias for the builtin `bool`. To silence this warning, use `bool` by itself. Doing this will not modify any behavior and is safe. If you specifically wanted the numpy scalar type, use `np.bool_` here.\n",
      "Deprecated in NumPy 1.20; for more details and guidance: https://numpy.org/devdocs/release/1.20.0-notes.html#deprecations\n",
      "  from ._gradient_boosting import predict_stages\n",
      "C:\\Users\\HP\\Anaconda3\\lib\\site-packages\\sklearn\\ensemble\\gradient_boosting.py:32: DeprecationWarning: `np.bool` is a deprecated alias for the builtin `bool`. To silence this warning, use `bool` by itself. Doing this will not modify any behavior and is safe. If you specifically wanted the numpy scalar type, use `np.bool_` here.\n",
      "Deprecated in NumPy 1.20; for more details and guidance: https://numpy.org/devdocs/release/1.20.0-notes.html#deprecations\n",
      "  from ._gradient_boosting import predict_stages\n"
     ]
    }
   ],
   "source": [
    "#general Purpose imports:\n",
    "import numpy as np\n",
    "import pandas as pd\n",
    "import matplotlib.pyplot as plt\n",
    "import seaborn as sns\n",
    "from itertools import cycle, islice\n",
    "\n",
    "#sklearn imports:\n",
    "from sklearn.preprocessing import LabelEncoder\n",
    "from sklearn.model_selection import StratifiedKFold,train_test_split\n",
    "from sklearn import linear_model\n",
    "from sklearn.metrics import mean_squared_error, r2_score\n",
    "from sklearn. preprocessing import StandardScaler \n",
    "from sklearn.preprocessing import PolynomialFeatures \n",
    "from sklearn.ensemble import RandomForestRegressor\n",
    "\n",
    "#xgBoost:\n",
    "import xgboost as xgb"
   ]
  },
  {
   "cell_type": "markdown",
   "metadata": {},
   "source": [
    "## Bussiness Value (justification):\n",
    "The value of predicting the number of upvotes on a question is important to a website manager to give indication that if the predicted upvotes numbers is large that means the views of the questions is large so we can put important ads in the page of this question."
   ]
  },
  {
   "cell_type": "markdown",
   "metadata": {},
   "source": [
    "## Data Dectionary:\n",
    "The data set consists of 7 columns as follws:\n",
    "<ul>\n",
    "    <li> <b>ID: </b> The ID of the questin. </li>\n",
    "    <li> <b>Tag: </b> Anonymised tags representing question category. </li>\n",
    "    <li> <b>Reputation: </b> Reputation score of question author. </li>\n",
    "    <li> <b>Answers: </b> Number of times question has been answered. </li>\n",
    "    <li> <b>Username: </b> The ID the qustion's author. </li>\n",
    "    <li> <b>Views: </b> Number of times question has been viewed. </li>\n",
    "    <li> <b>UpVotes(Target): </b> numbers of upvotes for the question. </li>\n",
    " </ul>\n",
    "    "
   ]
  },
  {
   "cell_type": "markdown",
   "metadata": {},
   "source": [
    "## Data Loading:"
   ]
  },
  {
   "cell_type": "code",
   "execution_count": 2,
   "metadata": {},
   "outputs": [],
   "source": [
    "#Loading Data:\n",
    "train = pd.read_csv('Datasets/trainingset.csv')"
   ]
  },
  {
   "cell_type": "markdown",
   "metadata": {},
   "source": [
    "## Data Exploring:"
   ]
  },
  {
   "cell_type": "code",
   "execution_count": 3,
   "metadata": {},
   "outputs": [
    {
     "name": "stdout",
     "output_type": "stream",
     "text": [
      "(330045, 7)\n",
      "ID              int64\n",
      "Tag            object\n",
      "Reputation    float64\n",
      "Answers       float64\n",
      "Username        int64\n",
      "Views         float64\n",
      "Upvotes       float64\n",
      "dtype: object\n"
     ]
    },
    {
     "data": {
      "text/html": [
       "<div>\n",
       "<style scoped>\n",
       "    .dataframe tbody tr th:only-of-type {\n",
       "        vertical-align: middle;\n",
       "    }\n",
       "\n",
       "    .dataframe tbody tr th {\n",
       "        vertical-align: top;\n",
       "    }\n",
       "\n",
       "    .dataframe thead th {\n",
       "        text-align: right;\n",
       "    }\n",
       "</style>\n",
       "<table border=\"1\" class=\"dataframe\">\n",
       "  <thead>\n",
       "    <tr style=\"text-align: right;\">\n",
       "      <th></th>\n",
       "      <th>ID</th>\n",
       "      <th>Tag</th>\n",
       "      <th>Reputation</th>\n",
       "      <th>Answers</th>\n",
       "      <th>Username</th>\n",
       "      <th>Views</th>\n",
       "      <th>Upvotes</th>\n",
       "    </tr>\n",
       "  </thead>\n",
       "  <tbody>\n",
       "    <tr>\n",
       "      <th>0</th>\n",
       "      <td>52664</td>\n",
       "      <td>a</td>\n",
       "      <td>3942.0</td>\n",
       "      <td>2.0</td>\n",
       "      <td>155623</td>\n",
       "      <td>7855.0</td>\n",
       "      <td>42.0</td>\n",
       "    </tr>\n",
       "    <tr>\n",
       "      <th>1</th>\n",
       "      <td>327662</td>\n",
       "      <td>a</td>\n",
       "      <td>26046.0</td>\n",
       "      <td>12.0</td>\n",
       "      <td>21781</td>\n",
       "      <td>55801.0</td>\n",
       "      <td>1175.0</td>\n",
       "    </tr>\n",
       "    <tr>\n",
       "      <th>2</th>\n",
       "      <td>468453</td>\n",
       "      <td>c</td>\n",
       "      <td>1358.0</td>\n",
       "      <td>4.0</td>\n",
       "      <td>56177</td>\n",
       "      <td>8067.0</td>\n",
       "      <td>60.0</td>\n",
       "    </tr>\n",
       "    <tr>\n",
       "      <th>3</th>\n",
       "      <td>96996</td>\n",
       "      <td>a</td>\n",
       "      <td>264.0</td>\n",
       "      <td>3.0</td>\n",
       "      <td>168793</td>\n",
       "      <td>27064.0</td>\n",
       "      <td>9.0</td>\n",
       "    </tr>\n",
       "    <tr>\n",
       "      <th>4</th>\n",
       "      <td>131465</td>\n",
       "      <td>c</td>\n",
       "      <td>4271.0</td>\n",
       "      <td>4.0</td>\n",
       "      <td>112223</td>\n",
       "      <td>13986.0</td>\n",
       "      <td>83.0</td>\n",
       "    </tr>\n",
       "    <tr>\n",
       "      <th>5</th>\n",
       "      <td>345568</td>\n",
       "      <td>r</td>\n",
       "      <td>440.0</td>\n",
       "      <td>1.0</td>\n",
       "      <td>23866</td>\n",
       "      <td>5577.0</td>\n",
       "      <td>4.0</td>\n",
       "    </tr>\n",
       "    <tr>\n",
       "      <th>6</th>\n",
       "      <td>376865</td>\n",
       "      <td>c</td>\n",
       "      <td>147.0</td>\n",
       "      <td>1.0</td>\n",
       "      <td>10759</td>\n",
       "      <td>17184.0</td>\n",
       "      <td>17.0</td>\n",
       "    </tr>\n",
       "    <tr>\n",
       "      <th>7</th>\n",
       "      <td>467378</td>\n",
       "      <td>j</td>\n",
       "      <td>2269.0</td>\n",
       "      <td>2.0</td>\n",
       "      <td>54623</td>\n",
       "      <td>312.0</td>\n",
       "      <td>3.0</td>\n",
       "    </tr>\n",
       "    <tr>\n",
       "      <th>8</th>\n",
       "      <td>393640</td>\n",
       "      <td>j</td>\n",
       "      <td>111.0</td>\n",
       "      <td>2.0</td>\n",
       "      <td>172926</td>\n",
       "      <td>53738.0</td>\n",
       "      <td>79.0</td>\n",
       "    </tr>\n",
       "    <tr>\n",
       "      <th>9</th>\n",
       "      <td>130054</td>\n",
       "      <td>c</td>\n",
       "      <td>2749.0</td>\n",
       "      <td>1.0</td>\n",
       "      <td>10189</td>\n",
       "      <td>227.0</td>\n",
       "      <td>0.0</td>\n",
       "    </tr>\n",
       "  </tbody>\n",
       "</table>\n",
       "</div>"
      ],
      "text/plain": [
       "       ID Tag  Reputation  Answers  Username    Views  Upvotes\n",
       "0   52664   a      3942.0      2.0    155623   7855.0     42.0\n",
       "1  327662   a     26046.0     12.0     21781  55801.0   1175.0\n",
       "2  468453   c      1358.0      4.0     56177   8067.0     60.0\n",
       "3   96996   a       264.0      3.0    168793  27064.0      9.0\n",
       "4  131465   c      4271.0      4.0    112223  13986.0     83.0\n",
       "5  345568   r       440.0      1.0     23866   5577.0      4.0\n",
       "6  376865   c       147.0      1.0     10759  17184.0     17.0\n",
       "7  467378   j      2269.0      2.0     54623    312.0      3.0\n",
       "8  393640   j       111.0      2.0    172926  53738.0     79.0\n",
       "9  130054   c      2749.0      1.0     10189    227.0      0.0"
      ]
     },
     "execution_count": 3,
     "metadata": {},
     "output_type": "execute_result"
    }
   ],
   "source": [
    "#size of training Data:\n",
    "print(train.shape)\n",
    "#types of data:\n",
    "print(train.dtypes)\n",
    "#Data:\n",
    "train.head(10)"
   ]
  },
  {
   "cell_type": "code",
   "execution_count": 4,
   "metadata": {},
   "outputs": [
    {
     "data": {
      "text/html": [
       "<div>\n",
       "<style scoped>\n",
       "    .dataframe tbody tr th:only-of-type {\n",
       "        vertical-align: middle;\n",
       "    }\n",
       "\n",
       "    .dataframe tbody tr th {\n",
       "        vertical-align: top;\n",
       "    }\n",
       "\n",
       "    .dataframe thead th {\n",
       "        text-align: right;\n",
       "    }\n",
       "</style>\n",
       "<table border=\"1\" class=\"dataframe\">\n",
       "  <thead>\n",
       "    <tr style=\"text-align: right;\">\n",
       "      <th></th>\n",
       "      <th>ID</th>\n",
       "      <th>Reputation</th>\n",
       "      <th>Answers</th>\n",
       "      <th>Username</th>\n",
       "      <th>Views</th>\n",
       "      <th>Upvotes</th>\n",
       "    </tr>\n",
       "  </thead>\n",
       "  <tbody>\n",
       "    <tr>\n",
       "      <th>count</th>\n",
       "      <td>330045.000000</td>\n",
       "      <td>3.300450e+05</td>\n",
       "      <td>330045.000000</td>\n",
       "      <td>330045.000000</td>\n",
       "      <td>3.300450e+05</td>\n",
       "      <td>330045.000000</td>\n",
       "    </tr>\n",
       "    <tr>\n",
       "      <th>mean</th>\n",
       "      <td>235748.682789</td>\n",
       "      <td>7.773147e+03</td>\n",
       "      <td>3.917672</td>\n",
       "      <td>81442.888803</td>\n",
       "      <td>2.964507e+04</td>\n",
       "      <td>337.505358</td>\n",
       "    </tr>\n",
       "    <tr>\n",
       "      <th>std</th>\n",
       "      <td>136039.418471</td>\n",
       "      <td>2.706141e+04</td>\n",
       "      <td>3.579515</td>\n",
       "      <td>49215.100730</td>\n",
       "      <td>8.095646e+04</td>\n",
       "      <td>3592.441135</td>\n",
       "    </tr>\n",
       "    <tr>\n",
       "      <th>min</th>\n",
       "      <td>1.000000</td>\n",
       "      <td>0.000000e+00</td>\n",
       "      <td>0.000000</td>\n",
       "      <td>0.000000</td>\n",
       "      <td>9.000000e+00</td>\n",
       "      <td>0.000000</td>\n",
       "    </tr>\n",
       "    <tr>\n",
       "      <th>25%</th>\n",
       "      <td>117909.000000</td>\n",
       "      <td>2.820000e+02</td>\n",
       "      <td>2.000000</td>\n",
       "      <td>39808.000000</td>\n",
       "      <td>2.594000e+03</td>\n",
       "      <td>8.000000</td>\n",
       "    </tr>\n",
       "    <tr>\n",
       "      <th>50%</th>\n",
       "      <td>235699.000000</td>\n",
       "      <td>1.236000e+03</td>\n",
       "      <td>3.000000</td>\n",
       "      <td>79010.000000</td>\n",
       "      <td>8.954000e+03</td>\n",
       "      <td>28.000000</td>\n",
       "    </tr>\n",
       "    <tr>\n",
       "      <th>75%</th>\n",
       "      <td>353620.000000</td>\n",
       "      <td>5.118000e+03</td>\n",
       "      <td>5.000000</td>\n",
       "      <td>122559.000000</td>\n",
       "      <td>2.687000e+04</td>\n",
       "      <td>107.000000</td>\n",
       "    </tr>\n",
       "    <tr>\n",
       "      <th>max</th>\n",
       "      <td>471493.000000</td>\n",
       "      <td>1.042428e+06</td>\n",
       "      <td>76.000000</td>\n",
       "      <td>175738.000000</td>\n",
       "      <td>5.231058e+06</td>\n",
       "      <td>615278.000000</td>\n",
       "    </tr>\n",
       "  </tbody>\n",
       "</table>\n",
       "</div>"
      ],
      "text/plain": [
       "                  ID    Reputation        Answers       Username  \\\n",
       "count  330045.000000  3.300450e+05  330045.000000  330045.000000   \n",
       "mean   235748.682789  7.773147e+03       3.917672   81442.888803   \n",
       "std    136039.418471  2.706141e+04       3.579515   49215.100730   \n",
       "min         1.000000  0.000000e+00       0.000000       0.000000   \n",
       "25%    117909.000000  2.820000e+02       2.000000   39808.000000   \n",
       "50%    235699.000000  1.236000e+03       3.000000   79010.000000   \n",
       "75%    353620.000000  5.118000e+03       5.000000  122559.000000   \n",
       "max    471493.000000  1.042428e+06      76.000000  175738.000000   \n",
       "\n",
       "              Views        Upvotes  \n",
       "count  3.300450e+05  330045.000000  \n",
       "mean   2.964507e+04     337.505358  \n",
       "std    8.095646e+04    3592.441135  \n",
       "min    9.000000e+00       0.000000  \n",
       "25%    2.594000e+03       8.000000  \n",
       "50%    8.954000e+03      28.000000  \n",
       "75%    2.687000e+04     107.000000  \n",
       "max    5.231058e+06  615278.000000  "
      ]
     },
     "execution_count": 4,
     "metadata": {},
     "output_type": "execute_result"
    }
   ],
   "source": [
    "#statistics(summary) about data\n",
    "train.describe()"
   ]
  },
  {
   "cell_type": "code",
   "execution_count": 5,
   "metadata": {},
   "outputs": [
    {
     "data": {
      "text/html": [
       "<div>\n",
       "<style scoped>\n",
       "    .dataframe tbody tr th:only-of-type {\n",
       "        vertical-align: middle;\n",
       "    }\n",
       "\n",
       "    .dataframe tbody tr th {\n",
       "        vertical-align: top;\n",
       "    }\n",
       "\n",
       "    .dataframe thead th {\n",
       "        text-align: right;\n",
       "    }\n",
       "</style>\n",
       "<table border=\"1\" class=\"dataframe\">\n",
       "  <thead>\n",
       "    <tr style=\"text-align: right;\">\n",
       "      <th></th>\n",
       "      <th>ID</th>\n",
       "      <th>Reputation</th>\n",
       "      <th>Answers</th>\n",
       "      <th>Username</th>\n",
       "      <th>Views</th>\n",
       "      <th>Upvotes</th>\n",
       "    </tr>\n",
       "    <tr>\n",
       "      <th>Tag</th>\n",
       "      <th></th>\n",
       "      <th></th>\n",
       "      <th></th>\n",
       "      <th></th>\n",
       "      <th></th>\n",
       "      <th></th>\n",
       "    </tr>\n",
       "  </thead>\n",
       "  <tbody>\n",
       "    <tr>\n",
       "      <th>a</th>\n",
       "      <td>239590.353494</td>\n",
       "      <td>6065.168102</td>\n",
       "      <td>4.259189</td>\n",
       "      <td>81496.349109</td>\n",
       "      <td>31800.916327</td>\n",
       "      <td>316.460136</td>\n",
       "    </tr>\n",
       "    <tr>\n",
       "      <th>c</th>\n",
       "      <td>237971.012863</td>\n",
       "      <td>10566.420657</td>\n",
       "      <td>4.047697</td>\n",
       "      <td>80334.959632</td>\n",
       "      <td>26746.676875</td>\n",
       "      <td>327.569916</td>\n",
       "    </tr>\n",
       "    <tr>\n",
       "      <th>h</th>\n",
       "      <td>236766.817788</td>\n",
       "      <td>6985.072116</td>\n",
       "      <td>3.778837</td>\n",
       "      <td>81933.633291</td>\n",
       "      <td>33948.958812</td>\n",
       "      <td>384.719704</td>\n",
       "    </tr>\n",
       "    <tr>\n",
       "      <th>i</th>\n",
       "      <td>220363.254846</td>\n",
       "      <td>5238.884290</td>\n",
       "      <td>3.679753</td>\n",
       "      <td>78998.210772</td>\n",
       "      <td>15806.680093</td>\n",
       "      <td>117.386636</td>\n",
       "    </tr>\n",
       "    <tr>\n",
       "      <th>j</th>\n",
       "      <td>237764.331930</td>\n",
       "      <td>8285.527730</td>\n",
       "      <td>4.347256</td>\n",
       "      <td>81861.391115</td>\n",
       "      <td>43291.211236</td>\n",
       "      <td>540.364686</td>\n",
       "    </tr>\n",
       "    <tr>\n",
       "      <th>o</th>\n",
       "      <td>236318.977863</td>\n",
       "      <td>5656.755603</td>\n",
       "      <td>3.380654</td>\n",
       "      <td>79516.507837</td>\n",
       "      <td>13504.645538</td>\n",
       "      <td>112.157294</td>\n",
       "    </tr>\n",
       "    <tr>\n",
       "      <th>p</th>\n",
       "      <td>237951.321515</td>\n",
       "      <td>8062.053033</td>\n",
       "      <td>3.977077</td>\n",
       "      <td>84852.298869</td>\n",
       "      <td>33184.984334</td>\n",
       "      <td>407.351971</td>\n",
       "    </tr>\n",
       "    <tr>\n",
       "      <th>r</th>\n",
       "      <td>236191.361839</td>\n",
       "      <td>5290.282109</td>\n",
       "      <td>2.304292</td>\n",
       "      <td>85050.551680</td>\n",
       "      <td>12033.055940</td>\n",
       "      <td>79.027246</td>\n",
       "    </tr>\n",
       "    <tr>\n",
       "      <th>s</th>\n",
       "      <td>232761.903915</td>\n",
       "      <td>6545.661622</td>\n",
       "      <td>3.600866</td>\n",
       "      <td>79245.883463</td>\n",
       "      <td>25807.082965</td>\n",
       "      <td>237.031385</td>\n",
       "    </tr>\n",
       "    <tr>\n",
       "      <th>x</th>\n",
       "      <td>237098.152909</td>\n",
       "      <td>6456.155345</td>\n",
       "      <td>2.768845</td>\n",
       "      <td>81995.143881</td>\n",
       "      <td>16119.253941</td>\n",
       "      <td>151.255231</td>\n",
       "    </tr>\n",
       "  </tbody>\n",
       "</table>\n",
       "</div>"
      ],
      "text/plain": [
       "                ID    Reputation   Answers      Username         Views  \\\n",
       "Tag                                                                      \n",
       "a    239590.353494   6065.168102  4.259189  81496.349109  31800.916327   \n",
       "c    237971.012863  10566.420657  4.047697  80334.959632  26746.676875   \n",
       "h    236766.817788   6985.072116  3.778837  81933.633291  33948.958812   \n",
       "i    220363.254846   5238.884290  3.679753  78998.210772  15806.680093   \n",
       "j    237764.331930   8285.527730  4.347256  81861.391115  43291.211236   \n",
       "o    236318.977863   5656.755603  3.380654  79516.507837  13504.645538   \n",
       "p    237951.321515   8062.053033  3.977077  84852.298869  33184.984334   \n",
       "r    236191.361839   5290.282109  2.304292  85050.551680  12033.055940   \n",
       "s    232761.903915   6545.661622  3.600866  79245.883463  25807.082965   \n",
       "x    237098.152909   6456.155345  2.768845  81995.143881  16119.253941   \n",
       "\n",
       "        Upvotes  \n",
       "Tag              \n",
       "a    316.460136  \n",
       "c    327.569916  \n",
       "h    384.719704  \n",
       "i    117.386636  \n",
       "j    540.364686  \n",
       "o    112.157294  \n",
       "p    407.351971  \n",
       "r     79.027246  \n",
       "s    237.031385  \n",
       "x    151.255231  "
      ]
     },
     "execution_count": 5,
     "metadata": {},
     "output_type": "execute_result"
    }
   ],
   "source": [
    "#Distribution of the numerical features according to 'Tag'\n",
    "Tag_df_mean = train.groupby('Tag').mean()\n",
    "Tag_df_mean"
   ]
  },
  {
   "cell_type": "markdown",
   "metadata": {},
   "source": [
    "## Data Preprocessing:"
   ]
  },
  {
   "cell_type": "markdown",
   "metadata": {},
   "source": [
    "### Drop Useless Features:\n",
    "We won't really need to process on __username__ and __ID__. They are irrelevant to number of upvotes. so we will drop them."
   ]
  },
  {
   "cell_type": "code",
   "execution_count": 6,
   "metadata": {},
   "outputs": [
    {
     "data": {
      "text/html": [
       "<div>\n",
       "<style scoped>\n",
       "    .dataframe tbody tr th:only-of-type {\n",
       "        vertical-align: middle;\n",
       "    }\n",
       "\n",
       "    .dataframe tbody tr th {\n",
       "        vertical-align: top;\n",
       "    }\n",
       "\n",
       "    .dataframe thead th {\n",
       "        text-align: right;\n",
       "    }\n",
       "</style>\n",
       "<table border=\"1\" class=\"dataframe\">\n",
       "  <thead>\n",
       "    <tr style=\"text-align: right;\">\n",
       "      <th></th>\n",
       "      <th>Tag</th>\n",
       "      <th>Reputation</th>\n",
       "      <th>Answers</th>\n",
       "      <th>Views</th>\n",
       "      <th>Upvotes</th>\n",
       "    </tr>\n",
       "  </thead>\n",
       "  <tbody>\n",
       "    <tr>\n",
       "      <th>0</th>\n",
       "      <td>a</td>\n",
       "      <td>3942.0</td>\n",
       "      <td>2.0</td>\n",
       "      <td>7855.0</td>\n",
       "      <td>42.0</td>\n",
       "    </tr>\n",
       "    <tr>\n",
       "      <th>1</th>\n",
       "      <td>a</td>\n",
       "      <td>26046.0</td>\n",
       "      <td>12.0</td>\n",
       "      <td>55801.0</td>\n",
       "      <td>1175.0</td>\n",
       "    </tr>\n",
       "    <tr>\n",
       "      <th>2</th>\n",
       "      <td>c</td>\n",
       "      <td>1358.0</td>\n",
       "      <td>4.0</td>\n",
       "      <td>8067.0</td>\n",
       "      <td>60.0</td>\n",
       "    </tr>\n",
       "    <tr>\n",
       "      <th>3</th>\n",
       "      <td>a</td>\n",
       "      <td>264.0</td>\n",
       "      <td>3.0</td>\n",
       "      <td>27064.0</td>\n",
       "      <td>9.0</td>\n",
       "    </tr>\n",
       "    <tr>\n",
       "      <th>4</th>\n",
       "      <td>c</td>\n",
       "      <td>4271.0</td>\n",
       "      <td>4.0</td>\n",
       "      <td>13986.0</td>\n",
       "      <td>83.0</td>\n",
       "    </tr>\n",
       "  </tbody>\n",
       "</table>\n",
       "</div>"
      ],
      "text/plain": [
       "  Tag  Reputation  Answers    Views  Upvotes\n",
       "0   a      3942.0      2.0   7855.0     42.0\n",
       "1   a     26046.0     12.0  55801.0   1175.0\n",
       "2   c      1358.0      4.0   8067.0     60.0\n",
       "3   a       264.0      3.0  27064.0      9.0\n",
       "4   c      4271.0      4.0  13986.0     83.0"
      ]
     },
     "execution_count": 6,
     "metadata": {},
     "output_type": "execute_result"
    }
   ],
   "source": [
    "train.drop(['ID','Username'],axis = 1,inplace = True)\n",
    "train.head()"
   ]
  },
  {
   "cell_type": "markdown",
   "metadata": {},
   "source": [
    "### Deal With Missing Data:"
   ]
  },
  {
   "cell_type": "code",
   "execution_count": 7,
   "metadata": {},
   "outputs": [
    {
     "name": "stdout",
     "output_type": "stream",
     "text": [
      "Tag           0\n",
      "Reputation    0\n",
      "Answers       0\n",
      "Views         0\n",
      "Upvotes       0\n",
      "dtype: int64\n"
     ]
    }
   ],
   "source": [
    "#check if there is null values (missing data) to remove them:\n",
    "print(train.isnull().sum())"
   ]
  },
  {
   "cell_type": "markdown",
   "metadata": {},
   "source": [
    "There is no missing values."
   ]
  },
  {
   "cell_type": "markdown",
   "metadata": {},
   "source": [
    "### Deal with Categorical Features: (only 'Tag')"
   ]
  },
  {
   "cell_type": "markdown",
   "metadata": {},
   "source": [
    "#### One Numerical Feature:"
   ]
  },
  {
   "cell_type": "code",
   "execution_count": 8,
   "metadata": {},
   "outputs": [
    {
     "data": {
      "text/html": [
       "<div>\n",
       "<style scoped>\n",
       "    .dataframe tbody tr th:only-of-type {\n",
       "        vertical-align: middle;\n",
       "    }\n",
       "\n",
       "    .dataframe tbody tr th {\n",
       "        vertical-align: top;\n",
       "    }\n",
       "\n",
       "    .dataframe thead th {\n",
       "        text-align: right;\n",
       "    }\n",
       "</style>\n",
       "<table border=\"1\" class=\"dataframe\">\n",
       "  <thead>\n",
       "    <tr style=\"text-align: right;\">\n",
       "      <th></th>\n",
       "      <th>Tag</th>\n",
       "      <th>Reputation</th>\n",
       "      <th>Answers</th>\n",
       "      <th>Views</th>\n",
       "      <th>Upvotes</th>\n",
       "    </tr>\n",
       "  </thead>\n",
       "  <tbody>\n",
       "    <tr>\n",
       "      <th>0</th>\n",
       "      <td>0</td>\n",
       "      <td>3942.0</td>\n",
       "      <td>2.0</td>\n",
       "      <td>7855.0</td>\n",
       "      <td>42.0</td>\n",
       "    </tr>\n",
       "    <tr>\n",
       "      <th>1</th>\n",
       "      <td>0</td>\n",
       "      <td>26046.0</td>\n",
       "      <td>12.0</td>\n",
       "      <td>55801.0</td>\n",
       "      <td>1175.0</td>\n",
       "    </tr>\n",
       "    <tr>\n",
       "      <th>2</th>\n",
       "      <td>1</td>\n",
       "      <td>1358.0</td>\n",
       "      <td>4.0</td>\n",
       "      <td>8067.0</td>\n",
       "      <td>60.0</td>\n",
       "    </tr>\n",
       "    <tr>\n",
       "      <th>3</th>\n",
       "      <td>0</td>\n",
       "      <td>264.0</td>\n",
       "      <td>3.0</td>\n",
       "      <td>27064.0</td>\n",
       "      <td>9.0</td>\n",
       "    </tr>\n",
       "    <tr>\n",
       "      <th>4</th>\n",
       "      <td>1</td>\n",
       "      <td>4271.0</td>\n",
       "      <td>4.0</td>\n",
       "      <td>13986.0</td>\n",
       "      <td>83.0</td>\n",
       "    </tr>\n",
       "    <tr>\n",
       "      <th>5</th>\n",
       "      <td>7</td>\n",
       "      <td>440.0</td>\n",
       "      <td>1.0</td>\n",
       "      <td>5577.0</td>\n",
       "      <td>4.0</td>\n",
       "    </tr>\n",
       "    <tr>\n",
       "      <th>6</th>\n",
       "      <td>1</td>\n",
       "      <td>147.0</td>\n",
       "      <td>1.0</td>\n",
       "      <td>17184.0</td>\n",
       "      <td>17.0</td>\n",
       "    </tr>\n",
       "    <tr>\n",
       "      <th>7</th>\n",
       "      <td>4</td>\n",
       "      <td>2269.0</td>\n",
       "      <td>2.0</td>\n",
       "      <td>312.0</td>\n",
       "      <td>3.0</td>\n",
       "    </tr>\n",
       "    <tr>\n",
       "      <th>8</th>\n",
       "      <td>4</td>\n",
       "      <td>111.0</td>\n",
       "      <td>2.0</td>\n",
       "      <td>53738.0</td>\n",
       "      <td>79.0</td>\n",
       "    </tr>\n",
       "    <tr>\n",
       "      <th>9</th>\n",
       "      <td>1</td>\n",
       "      <td>2749.0</td>\n",
       "      <td>1.0</td>\n",
       "      <td>227.0</td>\n",
       "      <td>0.0</td>\n",
       "    </tr>\n",
       "  </tbody>\n",
       "</table>\n",
       "</div>"
      ],
      "text/plain": [
       "   Tag  Reputation  Answers    Views  Upvotes\n",
       "0    0      3942.0      2.0   7855.0     42.0\n",
       "1    0     26046.0     12.0  55801.0   1175.0\n",
       "2    1      1358.0      4.0   8067.0     60.0\n",
       "3    0       264.0      3.0  27064.0      9.0\n",
       "4    1      4271.0      4.0  13986.0     83.0\n",
       "5    7       440.0      1.0   5577.0      4.0\n",
       "6    1       147.0      1.0  17184.0     17.0\n",
       "7    4      2269.0      2.0    312.0      3.0\n",
       "8    4       111.0      2.0  53738.0     79.0\n",
       "9    1      2749.0      1.0    227.0      0.0"
      ]
     },
     "execution_count": 8,
     "metadata": {},
     "output_type": "execute_result"
    }
   ],
   "source": [
    "#encoding the levels of categorical features into numeric values to be able to deal with them\n",
    "trainNTag= pd.DataFrame.copy(train,deep=True)\n",
    "levels = LabelEncoder() \n",
    "trainNTag['Tag'] = levels.fit_transform(trainNTag['Tag'])\n",
    "trainNTag.head(10)\n"
   ]
  },
  {
   "cell_type": "markdown",
   "metadata": {},
   "source": [
    "The 'Tag' values took numerical codes."
   ]
  },
  {
   "cell_type": "markdown",
   "metadata": {},
   "source": [
    "#### Many Boolean Features:"
   ]
  },
  {
   "cell_type": "code",
   "execution_count": 9,
   "metadata": {},
   "outputs": [
    {
     "data": {
      "text/html": [
       "<div>\n",
       "<style scoped>\n",
       "    .dataframe tbody tr th:only-of-type {\n",
       "        vertical-align: middle;\n",
       "    }\n",
       "\n",
       "    .dataframe tbody tr th {\n",
       "        vertical-align: top;\n",
       "    }\n",
       "\n",
       "    .dataframe thead th {\n",
       "        text-align: right;\n",
       "    }\n",
       "</style>\n",
       "<table border=\"1\" class=\"dataframe\">\n",
       "  <thead>\n",
       "    <tr style=\"text-align: right;\">\n",
       "      <th></th>\n",
       "      <th>Reputation</th>\n",
       "      <th>Answers</th>\n",
       "      <th>Views</th>\n",
       "      <th>Upvotes</th>\n",
       "      <th>Tag_c</th>\n",
       "      <th>Tag_h</th>\n",
       "      <th>Tag_i</th>\n",
       "      <th>Tag_j</th>\n",
       "      <th>Tag_o</th>\n",
       "      <th>Tag_p</th>\n",
       "      <th>Tag_r</th>\n",
       "      <th>Tag_s</th>\n",
       "      <th>Tag_x</th>\n",
       "    </tr>\n",
       "  </thead>\n",
       "  <tbody>\n",
       "    <tr>\n",
       "      <th>0</th>\n",
       "      <td>3942.0</td>\n",
       "      <td>2.0</td>\n",
       "      <td>7855.0</td>\n",
       "      <td>42.0</td>\n",
       "      <td>0</td>\n",
       "      <td>0</td>\n",
       "      <td>0</td>\n",
       "      <td>0</td>\n",
       "      <td>0</td>\n",
       "      <td>0</td>\n",
       "      <td>0</td>\n",
       "      <td>0</td>\n",
       "      <td>0</td>\n",
       "    </tr>\n",
       "    <tr>\n",
       "      <th>1</th>\n",
       "      <td>26046.0</td>\n",
       "      <td>12.0</td>\n",
       "      <td>55801.0</td>\n",
       "      <td>1175.0</td>\n",
       "      <td>0</td>\n",
       "      <td>0</td>\n",
       "      <td>0</td>\n",
       "      <td>0</td>\n",
       "      <td>0</td>\n",
       "      <td>0</td>\n",
       "      <td>0</td>\n",
       "      <td>0</td>\n",
       "      <td>0</td>\n",
       "    </tr>\n",
       "    <tr>\n",
       "      <th>2</th>\n",
       "      <td>1358.0</td>\n",
       "      <td>4.0</td>\n",
       "      <td>8067.0</td>\n",
       "      <td>60.0</td>\n",
       "      <td>1</td>\n",
       "      <td>0</td>\n",
       "      <td>0</td>\n",
       "      <td>0</td>\n",
       "      <td>0</td>\n",
       "      <td>0</td>\n",
       "      <td>0</td>\n",
       "      <td>0</td>\n",
       "      <td>0</td>\n",
       "    </tr>\n",
       "    <tr>\n",
       "      <th>3</th>\n",
       "      <td>264.0</td>\n",
       "      <td>3.0</td>\n",
       "      <td>27064.0</td>\n",
       "      <td>9.0</td>\n",
       "      <td>0</td>\n",
       "      <td>0</td>\n",
       "      <td>0</td>\n",
       "      <td>0</td>\n",
       "      <td>0</td>\n",
       "      <td>0</td>\n",
       "      <td>0</td>\n",
       "      <td>0</td>\n",
       "      <td>0</td>\n",
       "    </tr>\n",
       "    <tr>\n",
       "      <th>4</th>\n",
       "      <td>4271.0</td>\n",
       "      <td>4.0</td>\n",
       "      <td>13986.0</td>\n",
       "      <td>83.0</td>\n",
       "      <td>1</td>\n",
       "      <td>0</td>\n",
       "      <td>0</td>\n",
       "      <td>0</td>\n",
       "      <td>0</td>\n",
       "      <td>0</td>\n",
       "      <td>0</td>\n",
       "      <td>0</td>\n",
       "      <td>0</td>\n",
       "    </tr>\n",
       "  </tbody>\n",
       "</table>\n",
       "</div>"
      ],
      "text/plain": [
       "   Reputation  Answers    Views  Upvotes  Tag_c  Tag_h  Tag_i  Tag_j  Tag_o  \\\n",
       "0      3942.0      2.0   7855.0     42.0      0      0      0      0      0   \n",
       "1     26046.0     12.0  55801.0   1175.0      0      0      0      0      0   \n",
       "2      1358.0      4.0   8067.0     60.0      1      0      0      0      0   \n",
       "3       264.0      3.0  27064.0      9.0      0      0      0      0      0   \n",
       "4      4271.0      4.0  13986.0     83.0      1      0      0      0      0   \n",
       "\n",
       "   Tag_p  Tag_r  Tag_s  Tag_x  \n",
       "0      0      0      0      0  \n",
       "1      0      0      0      0  \n",
       "2      0      0      0      0  \n",
       "3      0      0      0      0  \n",
       "4      0      0      0      0  "
      ]
     },
     "execution_count": 9,
     "metadata": {},
     "output_type": "execute_result"
    }
   ],
   "source": [
    "#categorial variable 'Tags' to features:\n",
    "training_numerical_Tags = pd.get_dummies(train,drop_first=True)\n",
    "training_numerical_Tags.head()"
   ]
  },
  {
   "cell_type": "markdown",
   "metadata": {},
   "source": [
    "### Split Dataset into Training Data and Testing(Validation) Data:"
   ]
  },
  {
   "cell_type": "markdown",
   "metadata": {},
   "source": [
    "#### Tag is one numerical feature:"
   ]
  },
  {
   "cell_type": "code",
   "execution_count": 10,
   "metadata": {},
   "outputs": [],
   "source": [
    "#splite the dataset into training data and validation data:\n",
    "feature_names= [x for x in trainNTag.columns if x not in ['Upvotes']] \n",
    "x_train, x_validate, y_train, y_validate = train_test_split(trainNTag[feature_names],trainNTag['Upvotes'],test_size = 0.22,random_state=205)"
   ]
  },
  {
   "cell_type": "markdown",
   "metadata": {},
   "source": [
    "#### Tag is many boolean features:"
   ]
  },
  {
   "cell_type": "code",
   "execution_count": 11,
   "metadata": {},
   "outputs": [],
   "source": [
    "########################################################################################\n",
    "#splite the dataset into training data and validation data:\n",
    "feature_names= [x for x in training_numerical_Tags.columns if x not in ['Upvotes']] \n",
    "x_trainN, x_validateN, y_trainN, y_validateN = train_test_split(training_numerical_Tags[feature_names],training_numerical_Tags['Upvotes'],test_size = 0.22,random_state=205)"
   ]
  },
  {
   "cell_type": "markdown",
   "metadata": {},
   "source": [
    "__p.s.__ There is more preprocessing on data in training Models part."
   ]
  },
  {
   "cell_type": "markdown",
   "metadata": {},
   "source": [
    "## Data Visualization:"
   ]
  },
  {
   "cell_type": "code",
   "execution_count": 12,
   "metadata": {},
   "outputs": [
    {
     "data": {
      "text/plain": [
       "<matplotlib.axes._subplots.AxesSubplot at 0x1d3a0196208>"
      ]
     },
     "execution_count": 12,
     "metadata": {},
     "output_type": "execute_result"
    },
    {
     "data": {
      "image/png": "[encoded data removed]",
      "text/plain": [
       "<Figure size 1152x576 with 2 Axes>"
      ]
     },
     "metadata": {
      "needs_background": "light"
     },
     "output_type": "display_data"
    }
   ],
   "source": [
    "#correlation between all features:\n",
    "plt.figure(figsize = (16,8))\n",
    "correlation = train.corr()\n",
    "sns.heatmap(correlation,cmap=\"Blues\", annot = True)"
   ]
  },
  {
   "cell_type": "markdown",
   "metadata": {},
   "source": [
    "*We can see here that the highest correlation is the correlation between <b>Views</b> and <b>Upvotes</b> then the correlation between <b>views</b> and <b>Answers</b>.*"
   ]
  },
  {
   "cell_type": "code",
   "execution_count": 13,
   "metadata": {},
   "outputs": [
    {
     "data": {
      "image/png": "[encoded data removed]",
      "text/plain": [
       "<Figure size 720x432 with 2 Axes>"
      ]
     },
     "metadata": {
      "needs_background": "light"
     },
     "output_type": "display_data"
    }
   ],
   "source": [
    "#relation between Tags and Answers and between Tags and Views\n",
    "my_colors = list(islice(cycle(['b', 'r', 'g', 'y', 'k']), None, len(Tag_df_mean)))\n",
    "plt.figure(figsize=(10,6))\n",
    "plt.subplot(1,2,1)\n",
    "Tag_df_mean['Answers'].plot(kind= 'bar',color=my_colors)\n",
    "plt.ylabel('Answers')\n",
    "plt.subplot(1,2,2)\n",
    "Tag_df_mean['Views'].plot(kind = 'bar', color=my_colors)\n",
    "plt.ylabel('Views')\n",
    "# set the spacing between subplots\n",
    "plt.subplots_adjust(left=0.1,bottom=0.1, right=0.9, top=0.9, wspace=0.4, hspace=0.4)"
   ]
  },
  {
   "cell_type": "markdown",
   "metadata": {},
   "source": [
    "There is some topics are more attractive and have more interaction than others like __j__ and __p__."
   ]
  },
  {
   "cell_type": "code",
   "execution_count": 14,
   "metadata": {},
   "outputs": [
    {
     "data": {
      "image/png": "[encoded data removed]",
      "text/plain": [
       "<Figure size 432x288 with 1 Axes>"
      ]
     },
     "metadata": {
      "needs_background": "light"
     },
     "output_type": "display_data"
    },
    {
     "data": {
      "image/png": "[encoded data removed]",
      "text/plain": [
       "<Figure size 720x432 with 1 Axes>"
      ]
     },
     "metadata": {
      "needs_background": "light"
     },
     "output_type": "display_data"
    }
   ],
   "source": [
    "#the relation between 'Tags' and 'upvotes'\n",
    "trainNTag.plot('Tag','Upvotes', kind='scatter')\n",
    "\n",
    "plt.figure(figsize=(10,6))\n",
    "plt.subplot(1,2,1)\n",
    "Tag_df_mean['Upvotes'].plot(kind= 'bar',color=my_colors)\n",
    "plt.ylabel('Upvotes')\n",
    "plt.subplots_adjust(left=0.1,bottom=0.1, right=0.9, top=0.9, wspace=0.4, hspace=0.4)"
   ]
  },
  {
   "cell_type": "markdown",
   "metadata": {},
   "source": [
    "*Some ‘Tags’ have higher number of Upvotes.*"
   ]
  },
  {
   "cell_type": "markdown",
   "metadata": {},
   "source": [
    "## Model Training:"
   ]
  },
  {
   "cell_type": "markdown",
   "metadata": {},
   "source": [
    "### 1.Linear Regression:"
   ]
  },
  {
   "cell_type": "markdown",
   "metadata": {},
   "source": [
    "#### a. Before Preprocessing on Trainning Data Values:"
   ]
  },
  {
   "cell_type": "markdown",
   "metadata": {},
   "source": [
    "##### Tag one numerical feature:"
   ]
  },
  {
   "cell_type": "code",
   "execution_count": 15,
   "metadata": {},
   "outputs": [
    {
     "name": "stdout",
     "output_type": "stream",
     "text": [
      "Mean squared error: 7122238.32\n",
      "R_square: 0.30\n",
      "negative values:  45017 out of  72610\n"
     ]
    }
   ],
   "source": [
    "#Create linear regression object\n",
    "linear_reg = linear_model.LinearRegression()\n",
    "\n",
    "#Train the model using the training sets\n",
    "linear_reg.fit(x_train, y_train)\n",
    "\n",
    "#Make predictions using the validation set\n",
    "y_pred = linear_reg.predict(x_validate)\n",
    "\n",
    "#The mean squared error\n",
    "mseL_without = mean_squared_error(y_validate, y_pred)\n",
    "print('Mean squared error: %.2f' % mseL_without)\n",
    "\n",
    "#The R_square: 1 is perfect prediction\n",
    "R2L_without = r2_score(y_validate, y_pred)\n",
    "print('R_square: %.2f' % R2L_without)\n",
    "\n",
    "\n",
    "print('negative values: ',sum(y_pred < 0), 'out of ', len(y_pred))"
   ]
  },
  {
   "cell_type": "markdown",
   "metadata": {},
   "source": [
    "#### Tag many boolean features:"
   ]
  },
  {
   "cell_type": "code",
   "execution_count": 16,
   "metadata": {},
   "outputs": [
    {
     "name": "stdout",
     "output_type": "stream",
     "text": [
      "Mean squared error: 7118838.96\n",
      "R_square: 0.30\n",
      "negative values:  44742 out of  72610\n"
     ]
    }
   ],
   "source": [
    "####################################################################################\n",
    "#Create linear regression object\n",
    "linear_regN = linear_model.LinearRegression()\n",
    "\n",
    "#Train the model using the training sets\n",
    "linear_regN.fit(x_trainN, y_trainN)\n",
    "\n",
    "#Make predictions using the validation set\n",
    "y_predN = linear_regN.predict(x_validateN)\n",
    "\n",
    "#The mean squared error\n",
    "mseL_withoutN = mean_squared_error(y_validateN, y_predN)\n",
    "print('Mean squared error: %.2f' % mseL_withoutN)\n",
    "\n",
    "#The R_square: 1 is perfect prediction\n",
    "R2L_withoutN = r2_score(y_validate, y_pred)\n",
    "print('R_square: %.2f' % R2L_withoutN)\n",
    "\n",
    "\n",
    "print('negative values: ',sum(y_predN < 0), 'out of ', len(y_predN))"
   ]
  },
  {
   "cell_type": "markdown",
   "metadata": {},
   "source": [
    "The linear regression model has bad Rsquare score.\n",
    "Almost __half__ of samples are __negative values__ which is not acceptable."
   ]
  },
  {
   "cell_type": "markdown",
   "metadata": {},
   "source": [
    "#### b. After Preprocessing on Trainning Data Values:"
   ]
  },
  {
   "cell_type": "markdown",
   "metadata": {},
   "source": [
    "##### Preprocessing on Trainning Data:\n",
    "1. Standardization and scaling <br>\n",
    "2. Generating Polynomials and Interactions between features:"
   ]
  },
  {
   "cell_type": "markdown",
   "metadata": {},
   "source": [
    "###### Tag one numerical feature:"
   ]
  },
  {
   "cell_type": "code",
   "execution_count": 17,
   "metadata": {},
   "outputs": [],
   "source": [
    "#Data Standraization:\n",
    "sc_X = StandardScaler() \n",
    "x_train_sc =sc_X.fit_transform(x_train)  \n",
    "x_validate_sc= sc_X.transform(x_validate)\n",
    "\n",
    "#Generate Polynomial and interactions between features:\n",
    "poly_reg = PolynomialFeatures(degree = 4, interaction_only=False, include_bias=True) #degree = no. of features \n",
    "X_train_poly = poly_reg.fit_transform(x_train_sc) \n",
    "poly_reg.fit(x_train_sc, y_train)\n",
    "x_validate_poly = poly_reg.fit_transform(x_validate_sc)\n"
   ]
  },
  {
   "cell_type": "markdown",
   "metadata": {},
   "source": [
    "###### Tag many boolean features:"
   ]
  },
  {
   "cell_type": "code",
   "execution_count": 18,
   "metadata": {},
   "outputs": [],
   "source": [
    "################################################################\n",
    "#Data Standraization:\n",
    "sc_XN = StandardScaler() \n",
    "x_train_scN =sc_XN.fit_transform(x_trainN)  \n",
    "x_validate_scN= sc_XN.transform(x_validateN)\n",
    "\n",
    "#Generate Polynomial and interactions between features:\n",
    "poly_regN = PolynomialFeatures(degree = 4, interaction_only=False, include_bias=True) #degree = no. of features \n",
    "X_train_polyN = poly_regN.fit_transform(x_train_scN) \n",
    "poly_regN.fit(x_train_scN, y_trainN)\n",
    "x_validate_polyN = poly_regN.fit_transform(x_validate_scN)\n"
   ]
  },
  {
   "cell_type": "markdown",
   "metadata": {},
   "source": [
    "#### Trainning Model:\n",
    "##### Tag one numerical feature:"
   ]
  },
  {
   "cell_type": "code",
   "execution_count": 19,
   "metadata": {},
   "outputs": [
    {
     "name": "stdout",
     "output_type": "stream",
     "text": [
      "Mean squared error: 884975.44\n",
      "R_square: 0.91\n",
      "negative values:  20870 out of  72610\n"
     ]
    }
   ],
   "source": [
    "#Create linear regression object\n",
    "linear_reg_poly = linear_model.LinearRegression()\n",
    "\n",
    "#Train the model using the training sets\n",
    "linear_reg_poly.fit(X_train_poly, y_train)\n",
    "\n",
    "#Make predictions using the validation set\n",
    "y_pred_poly=linear_reg_poly.predict(x_validate_poly)\n",
    "\n",
    "# The mean squared error\n",
    "mseL_with = mean_squared_error(y_validate, y_pred_poly)\n",
    "print('Mean squared error: %.2f' % mseL_with)\n",
    "\n",
    "# The R_square: 1 is perfect prediction\n",
    "R2L_with = r2_score(y_validate, y_pred_poly)\n",
    "print('R_square: %.2f' % R2L_with)\n",
    "\n",
    "\n",
    "print('negative values: ',sum(y_pred_poly < 0), 'out of ', len(y_pred_poly))"
   ]
  },
  {
   "cell_type": "markdown",
   "metadata": {},
   "source": [
    "###### Tag many boolean features:"
   ]
  },
  {
   "cell_type": "code",
   "execution_count": 20,
   "metadata": {},
   "outputs": [
    {
     "name": "stdout",
     "output_type": "stream",
     "text": [
      "Mean squared error: 3154836.91\n",
      "R_square: 0.69\n",
      "negative values:  13441 out of  72610\n"
     ]
    }
   ],
   "source": [
    "#################################################################################\n",
    "#Create linear regression object\n",
    "linear_reg_polyN = linear_model.LinearRegression()\n",
    "\n",
    "#Train the model using the training sets\n",
    "linear_reg_polyN.fit(X_train_polyN, y_trainN)\n",
    "\n",
    "#Make predictions using the validation set\n",
    "y_pred_polyN=linear_reg_polyN.predict(x_validate_polyN)\n",
    "\n",
    "# The mean squared error\n",
    "mseL_withN = mean_squared_error(y_validateN, y_pred_polyN)\n",
    "print('Mean squared error: %.2f' % mseL_withN)\n",
    "\n",
    "# The R_square: 1 is perfect prediction\n",
    "R2L_withN = r2_score(y_validateN, y_pred_polyN)\n",
    "print('R_square: %.2f' % R2L_withN)\n",
    "\n",
    "\n",
    "print('negative values: ',sum(y_pred_polyN < 0), 'out of ', len(y_pred_polyN))"
   ]
  },
  {
   "cell_type": "markdown",
   "metadata": {},
   "source": [
    "We can obviously notice that __R-square score__ and __Mean Square Error__ are __improved__ after __standrization__ and __generating polynomial and interactions__ between features of the data."
   ]
  },
  {
   "cell_type": "markdown",
   "metadata": {},
   "source": [
    "#### c. After Preprocessing Trainning Data and Regularization: "
   ]
  },
  {
   "cell_type": "markdown",
   "metadata": {},
   "source": [
    "##### Tuning alpha in regularization:"
   ]
  },
  {
   "cell_type": "code",
   "execution_count": 23,
   "metadata": {},
   "outputs": [
    {
     "name": "stdout",
     "output_type": "stream",
     "text": [
      "Mean Square Error [923684.7490967482, 745045.9212524338, 754333.6549920969, 754112.5350074042, 754288.9902214437, 754670.9501505796]\n",
      "R-square score [0.9092640277156694, 0.9268121876782945, 0.925899829265957, 0.9259215504612265, 0.9259042168033674, 0.9258666958790719]\n"
     ]
    }
   ],
   "source": [
    "#try different values of alpha in regularization of linear regression model:\n",
    "def Train_regulaization(Alpha):\n",
    "    #Create linear regression object\n",
    "    linear_reg_regular = linear_model.LassoLars(alpha=Alpha,max_iter=40)\n",
    "    #Train the model using the training sets\n",
    "    linear_reg_regular.fit(X_train_poly, y_train)\n",
    "    #Make predictions using the validation set\n",
    "    y_pred_regular=linear_reg_regular.predict(x_validate_poly)\n",
    "    #evaluate:\n",
    "    MSE = mean_squared_error(y_validate, y_pred_regular)\n",
    "    R2 = r2_score(y_validate, y_pred_regular)\n",
    "    return MSE,R2\n",
    "\n",
    "#try the following values of alpha:\n",
    "alpha_list = [.021,.05,0.094,.096,0.098, 0.1]\n",
    "MSE_list =[]\n",
    "R2_list =[]\n",
    "for a in alpha_list:\n",
    "    MSE,R2 = Train_regulaization(a)\n",
    "    MSE_list.append(MSE) #Mean square error\n",
    "    R2_list.append(R2)  #R-square score\n",
    "\n",
    "print('Mean Square Error',MSE_list)\n",
    "print('R-square score',R2_list)\n",
    "    "
   ]
  },
  {
   "cell_type": "markdown",
   "metadata": {},
   "source": [
    "##### Evaluation of Model with diffierent values of alpha:\n",
    "<ul>\n",
    "    <li> <b>alpha = 0.021:</b> <br>\n",
    "        MSE = 923684.74 <br>\n",
    "        R2 = 0.909264 \n",
    "    </li>\n",
    "    <li> <b>alpha = 0.05:</b> <br>\n",
    "        MSE = 745045.92 <br>\n",
    "        R2 = 0.926812 \n",
    "    </li>\n",
    "    <li> <b>alpha = 0.094:</b> <br>\n",
    "        MSE = 754333.65 <br>\n",
    "        R2 = 0.925899 \n",
    "    </li>\n",
    "    <li> <b>alpha = 0.096:</b> <br>\n",
    "        MSE = 754112.53 <br>\n",
    "        R2 = 0.925921\n",
    "    </li>\n",
    "    <li> <b>alpha = 0.098:</b> <br>\n",
    "        MSE = 754288.99 <br>\n",
    "        R2 = 0.925904\n",
    "    </li>\n",
    "        <li> <b>alpha = 0.1:</b> <br>\n",
    "        MSE = 754670.95 <br>\n",
    "        R2 = 0.925866\n",
    "    </li>\n",
    "</ul>\n",
    "<b> From the pervious data 'alpha = 0.096' is the best value to be used. </b>"
   ]
  },
  {
   "cell_type": "markdown",
   "metadata": {},
   "source": [
    "#### The final Regularized Model:"
   ]
  },
  {
   "cell_type": "code",
   "execution_count": 24,
   "metadata": {},
   "outputs": [
    {
     "name": "stdout",
     "output_type": "stream",
     "text": [
      "Mean squared error: 754112.54\n",
      "R_square: 0.93\n",
      "negative values:  1775 out of  72610\n"
     ]
    }
   ],
   "source": [
    "#Create linear regression object\n",
    "linear_reg_regularization = linear_model.LassoLars(alpha=0.096,max_iter=40)\n",
    " #LassoLars used for regularization(alpha = 0.096)\n",
    "\n",
    "#Train the model using the training sets\n",
    "linear_reg_regularization.fit(X_train_poly, y_train)\n",
    "\n",
    "#Make predictions using the validation set\n",
    "y_pred_regular=linear_reg_regularization.predict(x_validate_poly)\n",
    "\n",
    "# The mean squared error\n",
    "mseL_regular = mean_squared_error(y_validate, y_pred_regular)\n",
    "\n",
    "print('Mean squared error: %.2f' % mseL_regular)\n",
    "\n",
    "# The R_square: 1 is perfect prediction\n",
    "R2L_regular = r2_score(y_validate, y_pred_regular)\n",
    "print('R_square: %.2f' % R2L_regular)\n",
    "\n",
    "print('negative values: ',sum(y_pred_regular < 0), 'out of ', len(y_pred_regular))"
   ]
  },
  {
   "cell_type": "markdown",
   "metadata": {},
   "source": [
    " The __R-square score__ and __Mean Square Error__ are __more improved__ after __regularization__ the model."
   ]
  },
  {
   "cell_type": "markdown",
   "metadata": {},
   "source": [
    "### 2. Random Forest Regression:\n",
    "#### Tag one numerical feature:"
   ]
  },
  {
   "cell_type": "code",
   "execution_count": 25,
   "metadata": {},
   "outputs": [
    {
     "name": "stderr",
     "output_type": "stream",
     "text": [
      "C:\\Users\\HP\\Anaconda3\\lib\\site-packages\\sklearn\\ensemble\\forest.py:245: FutureWarning: The default value of n_estimators will change from 10 in version 0.20 to 100 in 0.22.\n",
      "  \"10 in version 0.20 to 100 in 0.22.\", FutureWarning)\n",
      "C:\\Users\\HP\\Anaconda3\\lib\\site-packages\\sklearn\\ensemble\\base.py:158: DeprecationWarning: `np.int` is a deprecated alias for the builtin `int`. To silence this warning, use `int` by itself. Doing this will not modify any behavior and is safe. When replacing `np.int`, you may wish to use e.g. `np.int64` or `np.int32` to specify the precision. If you wish to review your current use, check the release note link for additional information.\n",
      "Deprecated in NumPy 1.20; for more details and guidance: https://numpy.org/devdocs/release/1.20.0-notes.html#deprecations\n",
      "  dtype=np.int)\n"
     ]
    },
    {
     "name": "stdout",
     "output_type": "stream",
     "text": [
      "MSE: 1297485.37\n",
      "R-square score: 0.87 \n",
      "negative values:  0 out of  72610\n"
     ]
    }
   ],
   "source": [
    "rf_reg = RandomForestRegressor(random_state =1)\n",
    "rf_reg.fit(x_train,y_train)\n",
    "y_pred_FR = rf_reg.predict(x_validate)\n",
    "\n",
    "MSE_rf = mean_squared_error(y_validate,y_pred_FR)\n",
    "print(\"MSE: %.2f\" %MSE_rf)\n",
    "R2_rf = r2_score(y_validate, y_pred_FR)\n",
    "print(\"R-square score: %.2f \" %R2_rf)\n",
    "print('negative values: ',sum(y_pred_FR < 0), 'out of ', len(y_pred_FR))"
   ]
  },
  {
   "cell_type": "markdown",
   "metadata": {},
   "source": [
    "#### Tag many boolean features:"
   ]
  },
  {
   "cell_type": "code",
   "execution_count": 26,
   "metadata": {},
   "outputs": [
    {
     "name": "stderr",
     "output_type": "stream",
     "text": [
      "C:\\Users\\HP\\Anaconda3\\lib\\site-packages\\sklearn\\ensemble\\forest.py:245: FutureWarning: The default value of n_estimators will change from 10 in version 0.20 to 100 in 0.22.\n",
      "  \"10 in version 0.20 to 100 in 0.22.\", FutureWarning)\n",
      "C:\\Users\\HP\\Anaconda3\\lib\\site-packages\\sklearn\\ensemble\\base.py:158: DeprecationWarning: `np.int` is a deprecated alias for the builtin `int`. To silence this warning, use `int` by itself. Doing this will not modify any behavior and is safe. When replacing `np.int`, you may wish to use e.g. `np.int64` or `np.int32` to specify the precision. If you wish to review your current use, check the release note link for additional information.\n",
      "Deprecated in NumPy 1.20; for more details and guidance: https://numpy.org/devdocs/release/1.20.0-notes.html#deprecations\n",
      "  dtype=np.int)\n"
     ]
    },
    {
     "name": "stdout",
     "output_type": "stream",
     "text": [
      "MSE: 1375370.23\n",
      "R-square score: 0.86 \n",
      "negative values:  0 out of  72610\n"
     ]
    }
   ],
   "source": [
    "############################################################\n",
    "rf_regN = RandomForestRegressor(random_state =1)\n",
    "rf_regN.fit(x_trainN,y_trainN)\n",
    "y_pred_FRN = rf_regN.predict(x_validateN)\n",
    "\n",
    "MSE_rfN = mean_squared_error(y_validateN,y_pred_FRN)\n",
    "print(\"MSE: %.2f\" %MSE_rfN)\n",
    "R2_rfN = r2_score(y_validateN, y_pred_FRN)\n",
    "print(\"R-square score: %.2f \" %R2_rfN)\n",
    "print('negative values: ',sum(y_pred_FRN < 0), 'out of ', len(y_pred_FRN))"
   ]
  },
  {
   "cell_type": "markdown",
   "metadata": {},
   "source": [
    "We notice that __Linear regression__ model is __better__ than __RandomForestRegressor__"
   ]
  },
  {
   "cell_type": "markdown",
   "metadata": {},
   "source": [
    "### 3. XGboost:"
   ]
  },
  {
   "cell_type": "markdown",
   "metadata": {},
   "source": [
    "#### Tag one numerical feature:"
   ]
  },
  {
   "cell_type": "code",
   "execution_count": 29,
   "metadata": {},
   "outputs": [
    {
     "name": "stdout",
     "output_type": "stream",
     "text": [
      "[11:46:42] WARNING: src/objective/regression_obj.cu:152: reg:linear is now deprecated in favor of reg:squarederror.\n",
      "MSE: 1607732.73\n",
      "R-square score: 0.84\n",
      "negative values:  33175 out of  72610\n"
     ]
    }
   ],
   "source": [
    "xgb_reg = xgb.XGBRegressor(random_state =1)\n",
    "xgb_reg.fit(x_train,y_train)\n",
    "y_xgb_pred=xgb_reg.predict(x_validate)\n",
    "\n",
    "MSE_xgb = mean_squared_error(y_validate,y_xgb_pred)\n",
    "print(\"MSE: %.2f\" %MSE_xgb)\n",
    "R2_xgb = r2_score(y_validate, y_xgb_pred)\n",
    "print(\"R-square score: %.2f\" %R2_xgb)\n",
    "print('negative values: ',sum(y_xgb_pred < 0), 'out of ', len(y_xgb_pred))"
   ]
  },
  {
   "cell_type": "markdown",
   "metadata": {},
   "source": [
    "#### Tag many boolean features:"
   ]
  },
  {
   "cell_type": "code",
   "execution_count": 30,
   "metadata": {},
   "outputs": [
    {
     "name": "stdout",
     "output_type": "stream",
     "text": [
      "[11:47:01] WARNING: src/objective/regression_obj.cu:152: reg:linear is now deprecated in favor of reg:squarederror.\n",
      "MSE: 1561143.37\n",
      "R-square score: 0.85\n",
      "negative values:  30849 out of  72610\n"
     ]
    }
   ],
   "source": [
    "###########################################################\n",
    "xgb_regN = xgb.XGBRegressor(random_state =1)\n",
    "xgb_regN.fit(x_trainN,y_trainN)\n",
    "y_xgb_predN=xgb_regN.predict(x_validateN)\n",
    "\n",
    "MSE_xgbN = mean_squared_error(y_validateN,y_xgb_predN)\n",
    "print(\"MSE: %.2f\" %MSE_xgbN)\n",
    "R2_xgbN = r2_score(y_validateN, y_xgb_predN)\n",
    "print(\"R-square score: %.2f\" %R2_xgbN)\n",
    "print('negative values: ',sum(y_xgb_predN < 0), 'out of ', len(y_xgb_predN))"
   ]
  },
  {
   "cell_type": "markdown",
   "metadata": {},
   "source": [
    "We notice that __XgBoost__ model is __worse__ than __linear regression__ and __worse__ than __random forest regression__."
   ]
  },
  {
   "cell_type": "markdown",
   "metadata": {},
   "source": [
    "# Results and Evaluation:"
   ]
  },
  {
   "cell_type": "code",
   "execution_count": 35,
   "metadata": {},
   "outputs": [
    {
     "name": "stdout",
     "output_type": "stream",
     "text": [
      "[7122238.319095472, 884975.439241988, 754112.5350074042, 1297485.3693825875, 1607732.7330068282]\n"
     ]
    },
    {
     "data": {
      "image/png": "[encoded data removed]",
      "text/plain": [
       "<Figure size 432x288 with 1 Axes>"
      ]
     },
     "metadata": {
      "needs_background": "light"
     },
     "output_type": "display_data"
    },
    {
     "name": "stdout",
     "output_type": "stream",
     "text": [
      "[0.3003638748438885, 0.9130665446128703, 0.9259215504612265, 0.8725446136999153, 0.8420682025492239]\n"
     ]
    },
    {
     "data": {
      "image/png": "[encoded data removed]",
      "text/plain": [
       "<Figure size 432x288 with 1 Axes>"
      ]
     },
     "metadata": {
      "needs_background": "light"
     },
     "output_type": "display_data"
    }
   ],
   "source": [
    "Model =['LR', 'LR_Pre', 'LR_regu', 'RF','xgb']\n",
    "y_pos = np.arange(len(Model))\n",
    "\n",
    "MSE = [mseL_without,mseL_with,mseL_regular,MSE_rf,MSE_xgb]\n",
    "print(MSE)\n",
    "plt.bar(y_pos, MSE, align='center', alpha=0.5)\n",
    "plt.xticks(y_pos, Model)\n",
    "plt.ylabel('Mean Squared Error')\n",
    "plt.xlabel('Model')\n",
    "plt.title('MSE of Models')\n",
    "plt.show()\n",
    "\n",
    "R2 = [R2L_without,R2L_with,R2L_regular,R2_rf,R2_xgb]\n",
    "print (R2)\n",
    "plt.bar(y_pos, R2, align='center', alpha=0.5)\n",
    "plt.xticks(y_pos, Model)\n",
    "plt.ylabel('R-squared score')\n",
    "plt.xlabel('Model')\n",
    "plt.title('R-Squared of Models')\n",
    "plt.show()"
   ]
  },
  {
   "cell_type": "markdown",
   "metadata": {},
   "source": [
    "## Conclusion:"
   ]
  },
  {
   "cell_type": "markdown",
   "metadata": {},
   "source": [
    "<ul>\n",
    "    <li> The linear model before preprocessing on data is <b>much more worse</b> than Random Forest (RF) and xgBoost (xgb). </li>\n",
    "    <li> After applying standrization an Generating polynomial interactions between features, Linear model became <b>better</b> than RF and xgb. </li>\n",
    "    <li> After <b>Regulaizing</b> Linear model and tunning 'alpha' parameter, it became <b>more better</b>. </li>\n",
    "    <li> xgBoost results is <b>worse</b> than Random \n",
    "        Forest. </li>\n",
    "    <li> In our case, converting the categorical feature into many boolean features wasn't useful because it resulted in 9 new boolean features while the original features are only 4! </li>\n",
    "    <li> It's better to convert the categorical feature into numerical codes instead of converting in many boolean features as it takes less time in training and processing and also results in better performance.\n",
    "    </ul>"
   ]
  },
  {
   "cell_type": "code",
   "execution_count": null,
   "metadata": {},
   "outputs": [],
   "source": []
  }
 ],
 "metadata": {
  "kernelspec": {
   "display_name": "Python 3",
   "language": "python",
   "name": "python3"
  },
  "language_info": {
   "codemirror_mode": {
    "name": "ipython",
    "version": 3
   },
   "file_extension": ".py",
   "mimetype": "text/x-python",
   "name": "python",
   "nbconvert_exporter": "python",
   "pygments_lexer": "ipython3",
   "version": "3.7.3"
  }
 },
 "nbformat": 4,
 "nbformat_minor": 2
}
